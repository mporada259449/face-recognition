{
 "cells": [
  {
   "cell_type": "markdown",
   "metadata": {},
   "source": [
    "## Import Libs"
   ]
  },
  {
   "cell_type": "code",
   "execution_count": null,
   "metadata": {},
   "outputs": [],
   "source": [
    "import numpy as np\n",
    "import seaborn as sb\n",
    "%matplotlib inline \n",
    "from matplotlib import pyplot as plt\n",
    "from sklearn.model_selection import train_test_split\n",
    "from sklearn.model_selection import GridSearchCV\n",
    "from sklearn.metrics import classification_report, roc_curve, accuracy_score, precision_score, recall_score, f1_score, auc\n",
    "from sklearn.metrics import confusion_matrix\n",
    "from skimage.metrics import structural_similarity as ssim\n",
    "from sklearn.decomposition import PCA as PCA\n",
    "from sklearn.svm import SVC as SVC\n",
    "from time import time\n",
    "\n",
    "import os\n",
    "import cv2"
   ]
  },
  {
   "cell_type": "markdown",
   "metadata": {},
   "source": [
    "## Dataset class for data processing"
   ]
  },
  {
   "cell_type": "code",
   "execution_count": null,
   "metadata": {},
   "outputs": [],
   "source": [
    "class Dataset():\n",
    "    def __init__(self, data_path, transform) -> None:\n",
    "        self.data_path = data_path\n",
    "        self.transform = transform\n",
    "        self.image_pairs = []\n",
    "        self.labels = []\n",
    "\n",
    "    def get_all_data(self):\n",
    "        all_pairs = []\n",
    "        for label in os.listdir(self.data_path):\n",
    "            image_data_dir = os.path.join(self.data_path, label)\n",
    "            for pair_dir in os.listdir(image_data_dir):\n",
    "                identity_photos_dir = os.path.join(image_data_dir, pair_dir)\n",
    "                pair = os.listdir(identity_photos_dir)\n",
    "                pair_tuple = (os.path.join(identity_photos_dir, pair[0]), os.path.join(identity_photos_dir, pair[1]))\n",
    "                self.image_pairs.append(pair_tuple)\n",
    "                self.labels.append(label)\n",
    "                all_pairs.append({'img1':os.path.join(identity_photos_dir, pair[0]), 'img2':os.path.join(identity_photos_dir, pair[1]), label: label})\n",
    "        \n",
    "        return all_pairs\n",
    "\n",
    "    def get_item(self, idx):\n",
    "        img1_path, img2_path = self.image_pairs[idx]\n",
    "        img1 = cv2.imread(img1_path)\n",
    "        img2 = cv2.imread(img2_path)\n",
    "        \n",
    "        def transform_img(img, size=(96,96)):\n",
    "            grey_img = cv2.cvtColor(img, cv2.COLOR_BGR2GRAY)\n",
    "            resize_img = cv2.resize(grey_img, size)\n",
    "            normalized_img = cv2.normalize(resize_img, None, alpha=0, beta=255, norm_type=cv2.NORM_MINMAX)\n",
    "            return normalized_img\n",
    "            \n",
    "        if self.transform:\n",
    "            return transform_img(img1), transform_img(img2), self.labels[idx]\n",
    "        \n",
    "        return img1, img2, self.label[idx]\n",
    "    \n",
    "    def calc_dist_euclidean(self, img1, img2):\n",
    "        distance = np.sqrt(np.sum((img1-img2)**2))\n",
    "        return distance\n",
    "    \n",
    "    def calc_dist_simi(self, img1, img2):\n",
    "        return ssim(img1, img2, data_range=img1.max()-img1.min())\n",
    "    \n",
    "    def calc_dist_absolute(self, img1, img2):\n",
    "        return np.sum(np.absolute(img1-img2))\n",
    "\n",
    "    def calc_dist_cosine(self, img1, img2):\n",
    "        return np.dot(img1, img2)/(np.linalg.norm(img1) - np.linalg.norm(img2))\n",
    "    \n",
    "    def __len__(self):\n",
    "        return len(self.image_pairs)"
   ]
  },
  {
   "cell_type": "markdown",
   "metadata": {},
   "source": [
    "## get data"
   ]
  },
  {
   "cell_type": "code",
   "execution_count": null,
   "metadata": {},
   "outputs": [],
   "source": [
    "data_path = '../data/'\n",
    "dataset = Dataset(data_path, transform=True)\n",
    "all_data = dataset.get_all_data()"
   ]
  },
  {
   "cell_type": "code",
   "execution_count": null,
   "metadata": {},
   "outputs": [],
   "source": [
    "def all_images(all_data, dataset, n=25000):\n",
    "    X = []\n",
    "    y = []\n",
    "    for i in range(n):\n",
    "        img1, img2, label = dataset.get_item(i)\n",
    "        image_dist = np.array(dataset.calc_dist_absolute(img1, img2))\n",
    "        X.append(image_dist)\n",
    "        y.append(label)\n",
    "\n",
    "    for i in range(int(len(all_data)/2), int(len(all_data)/2+n)):\n",
    "        img1, img2, label = dataset.get_item(i)\n",
    "        image_dist = np.array(dataset.calc_dist_absolute(img1, img2))\n",
    "        X.append(image_dist)\n",
    "        y.append(label)\n",
    "\n",
    "    return X, y\n",
    "\n",
    "X, y = all_images(all_data, dataset, 10000)"
   ]
  },
  {
   "cell_type": "markdown",
   "metadata": {},
   "source": [
    "## Data split"
   ]
  },
  {
   "cell_type": "code",
   "execution_count": null,
   "metadata": {},
   "outputs": [],
   "source": [
    "X = np.array(X)\n",
    "y = np.array(y)\n",
    "print(X.shape)\n",
    "X_train, X_test, y_train, y_test = train_test_split(X.reshape(-1,1), y, test_size=0.15, random_state=42)"
   ]
  },
  {
   "cell_type": "markdown",
   "metadata": {},
   "source": [
    "## Training"
   ]
  },
  {
   "cell_type": "code",
   "execution_count": null,
   "metadata": {},
   "outputs": [],
   "source": [
    "param_grid = {\n",
    "    'C': [0.01, 0.05],\n",
    "    'kernel': ['linear', 'sigmoid']\n",
    "}\n",
    "clf = SVC(class_weight='balanced')\n",
    "grid_search = GridSearchCV(estimator=clf, param_grid=param_grid, cv=5, scoring=['accuracy', 'precision', 'recall', 'f1'], refit='accuracy', verbose=3, return_train_score=True, n_jobs=6)\n",
    "grid_search.fit(X_train, y_train.astype(int))"
   ]
  },
  {
   "cell_type": "code",
   "execution_count": null,
   "metadata": {},
   "outputs": [],
   "source": [
    "best_params = grid_search.best_params_\n",
    "best_score = grid_search.best_score_\n",
    "\n",
    "best_svm = grid_search.best_estimator_\n",
    "print(f\"Best Parameters: {best_params}\")\n",
    "print(f\"Best Cross-Validation Score: {best_score}\")"
   ]
  },
  {
   "cell_type": "code",
   "execution_count": null,
   "metadata": {},
   "outputs": [],
   "source": [
    "import pandas as pd\n",
    "\n",
    "file = 'svm_scores.txt'\n",
    "scores = pd.DataFrame(grid_search.cv_results_)\n",
    "scores.to_csv(file)"
   ]
  },
  {
   "cell_type": "code",
   "execution_count": null,
   "metadata": {},
   "outputs": [],
   "source": [
    "y_pred = best_svm.predict(X_test.astype(int))\n",
    "print(classification_report(y_test.astype(int), y_pred.astype(int)))"
   ]
  },
  {
   "cell_type": "code",
   "execution_count": null,
   "metadata": {},
   "outputs": [],
   "source": [
    "conf_matrix = confusion_matrix(y_test.astype(int), y_pred.astype(int))\n",
    "plt.figure(figsize=(8, 6))\n",
    "sb.heatmap(conf_matrix, annot=True, fmt='d', cmap='Blues', xticklabels=['Dissimilar', 'Similar'], yticklabels=['Dissimilar', 'Similar'])\n",
    "plt.xlabel('Predicted Label')\n",
    "plt.ylabel('True Label')\n",
    "plt.title('Confusion Matrix')\n",
    "plt.show()"
   ]
  },
  {
   "cell_type": "code",
   "execution_count": null,
   "metadata": {},
   "outputs": [],
   "source": [
    "print(\"acc: \", accuracy_score(y_test.astype(int), y_pred.astype(int)))\n",
    "print(\"f1_score: \", f1_score(y_test.astype(int), y_pred.astype(int)))\n",
    "print(\"precision: \", precision_score(y_test.astype(int), y_pred.astype(int)))\n",
    "print(\"recall: \", recall_score(y_test.astype(int), y_pred.astype(int)))"
   ]
  },
  {
   "cell_type": "code",
   "execution_count": null,
   "metadata": {},
   "outputs": [],
   "source": [
    "fpr, tpr, _ = roc_curve(y_test.astype(int), y_pred.astype(int))\n",
    "roc_auc = auc(fpr, tpr)\n",
    "plt.figure(figsize=(8, 6))\n",
    "plt.plot(fpr, tpr, color='blue', lw=2, label=f'ROC curve (area = {roc_auc:.4f})')\n",
    "plt.plot([0, 1], [0, 1], color='gray', lw=2, linestyle='--')\n",
    "plt.xlim([0.0, 1.0])\n",
    "plt.ylim([0.0, 1.05])\n",
    "plt.xlabel('False Positive Rate')\n",
    "plt.ylabel('True Positive Rate')\n",
    "plt.title('Receiver Operating Characteristic (ROC) Curve')\n",
    "plt.legend(loc='lower right')\n",
    "plt.show()"
   ]
  },
  {
   "cell_type": "code",
   "execution_count": null,
   "metadata": {},
   "outputs": [],
   "source": [
    "import pickle\n",
    "with open('best_svm.pkl', 'wb') as file:\n",
    "    pickle.dump(clf, file)"
   ]
  }
 ],
 "metadata": {
  "kernelspec": {
   "display_name": "venv",
   "language": "python",
   "name": "python3"
  },
  "language_info": {
   "codemirror_mode": {
    "name": "ipython",
    "version": 3
   },
   "file_extension": ".py",
   "mimetype": "text/x-python",
   "name": "python",
   "nbconvert_exporter": "python",
   "pygments_lexer": "ipython3",
   "version": "3.10.12"
  }
 },
 "nbformat": 4,
 "nbformat_minor": 2
}
