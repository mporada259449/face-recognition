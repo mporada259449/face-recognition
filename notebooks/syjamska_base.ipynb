{
  "cells": [
    {
      "cell_type": "code",
      "execution_count": 1,
      "metadata": {
        "colab": {
          "base_uri": "https://localhost:8080/"
        },
        "id": "yrSGVdLvnasn",
        "outputId": "a25ce306-6003-447a-c29f-a480c9809128"
      },
      "outputs": [
        {
          "name": "stdout",
          "output_type": "stream",
          "text": [
            "Mounted at /content/drive\n"
          ]
        }
      ],
      "source": [
        "from google.colab import drive\n",
        "drive.mount('/content/drive')\n",
        "%cp /content/drive/MyDrive/100k.zip /content/100k.zip\n",
        "!unzip -q 100k.zip\n"
      ]
    },
    {
      "cell_type": "markdown",
      "metadata": {
        "id": "qPR3EwVyewBW"
      },
      "source": [
        "## 0. Import dependecies"
      ]
    },
    {
      "cell_type": "code",
      "execution_count": 89,
      "metadata": {
        "colab": {
          "base_uri": "https://localhost:8080/"
        },
        "id": "uHNAlGNYewBX",
        "outputId": "6ce994b4-75da-4ed3-acb8-ab5e93d3c076"
      },
      "outputs": [
        {
          "name": "stdout",
          "output_type": "stream",
          "text": [
            "cuda\n"
          ]
        }
      ],
      "source": [
        "import random\n",
        "import numpy as np\n",
        "\n",
        "\n",
        "from PIL import Image\n",
        "from tqdm import tqdm\n",
        "from pathlib import Path\n",
        "from matplotlib import pyplot as plt\n",
        "\n",
        "import torch\n",
        "import torch.nn as nn\n",
        "import torch.nn.functional as F\n",
        "import torch.optim as optim\n",
        "from torchvision import transforms\n",
        "from torch.optim.lr_scheduler import StepLR\n",
        "from torch.utils.data import Dataset, DataLoader, random_split\n",
        "\n",
        "\n",
        "from sklearn.metrics import accuracy_score, precision_score, recall_score, f1_score, roc_curve, auc, confusion_matrix\n",
        "import seaborn as sb\n",
        "\n",
        "device = torch.device('cuda' if torch.cuda.is_available() else 'cpu')\n",
        "print(device)\n",
        "\n"
      ]
    },
    {
      "cell_type": "markdown",
      "metadata": {
        "id": "GSPy8jn4R4Ur"
      },
      "source": [
        "## 1. Data preprocessing"
      ]
    },
    {
      "cell_type": "markdown",
      "metadata": {
        "id": "Mg9deNO2ewBY"
      },
      "source": [
        "### Define Dataset class with its methods"
      ]
    },
    {
      "cell_type": "code",
      "execution_count": 90,
      "metadata": {
        "id": "GB9pjtCjewBZ"
      },
      "outputs": [],
      "source": [
        "class SiameseNetworkDataset(Dataset):\n",
        "    def __init__(self, root_dir, transform=None):\n",
        "        self.root_dir = Path(root_dir)\n",
        "        self.transform = transform\n",
        "        self.image_pairs = []\n",
        "        self.labels = []\n",
        "\n",
        "        # Navigate through the folders and collect image pairs\n",
        "        for subdir in ['0', '1']:\n",
        "            class_folder = self.root_dir / subdir\n",
        "            for subfolder in class_folder.iterdir():\n",
        "                image_files = list(subfolder.glob('*'))  # Collect all image files in the subfolder\n",
        "                if len(image_files) == 2:  # Ensure there are exactly two images\n",
        "                    self.image_pairs.append((image_files[0], image_files[1]))\n",
        "                    self.labels.append(int(subdir))  # Label based on the parent folder\n",
        "\n",
        "    def __getitem__(self, index):\n",
        "        img1_path, img2_path = self.image_pairs[index]\n",
        "        img1 = Image.open(img1_path)\n",
        "        img2 = Image.open(img2_path)\n",
        "\n",
        "        if self.transform:\n",
        "            img1 = self.transform(img1)\n",
        "            img2 = self.transform(img2)\n",
        "\n",
        "        return img1, img2, torch.tensor(self.labels[index], dtype=torch.float32)\n",
        "\n",
        "    def __len__(self):\n",
        "        return len(self.image_pairs)\n",
        "\n",
        "    def generate_pairs_and_labels(self):\n",
        "        \"\"\" Generator that yields image pairs and their corresponding labels from the dataset. \"\"\"\n",
        "        for (img1_path, img2_path), label in zip(self.image_pairs, self.labels):\n",
        "            yield (img1_path, img2_path), label\n",
        "\n",
        "    def random_sample_info(self, seed=33):\n",
        "        if seed is not None:\n",
        "            random.seed(seed)\n",
        "            torch.manual_seed(seed)\n",
        "\n",
        "        idx = random.randint(0, len(self.image_pairs) - 1)\n",
        "        img1_path, img2_path = self.image_pairs[idx]\n",
        "        label = self.labels[idx]\n",
        "        img1 = Image.open(img1_path)\n",
        "        img2 = Image.open(img2_path)\n",
        "\n",
        "        if self.transform:\n",
        "            img1 = self.transform(img1)\n",
        "            img2 = self.transform(img2)\n",
        "\n",
        "        print(f'Label: {label}')\n",
        "        print(f'Image 1 - Path: {img1_path}, Shape: {img1.shape}, Mean: {img1.mean().item():.2f}, Std: {img1.std().item():.2f}')\n",
        "        print(f'Image 2 - Path: {img2_path}, Shape: {img2.shape}, Mean: {img2.mean().item():.2f}, Std: {img2.std().item():.2f}')\n",
        "\n",
        "    def generate_all_pairs(self):\n",
        "        all_pairs = []\n",
        "        for (img1_path, img2_path), label in zip(self.image_pairs, self.labels):\n",
        "            all_pairs.append({'image1': img1_path, 'image2': img2_path, 'label': label})\n",
        "        return all_pairs\n",
        "\n",
        "    def print_all(self):\n",
        "        for (img1_path, img2_path), label in zip(self.image_pairs, self.labels):\n",
        "            print(img1_path, img2_path, label)\n",
        "\n",
        "    def plot_random_image_pair(self, seed=42):\n",
        "        if seed is not None:\n",
        "            random.seed(seed)\n",
        "            torch.manual_seed(seed)\n",
        "\n",
        "        # Select a random index and use __getitem__ to fetch the images\n",
        "        idx = random.randint(0, len(self) - 1)\n",
        "        img1, img2, label = self[idx]\n",
        "\n",
        "        fig, axs = plt.subplots(1, 2, figsize=(10, 5))\n",
        "\n",
        "        if img1.shape[0] == 1:\n",
        "            img1 = img1.squeeze(0).numpy()\n",
        "            img2 = img2.squeeze(0).numpy()\n",
        "            axs[0].imshow(img1, cmap='gray')\n",
        "            axs[1].imshow(img2, cmap='gray')\n",
        "        else:\n",
        "            img1 = img1.permute(1, 2, 0).numpy()\n",
        "            img2 = img2.permute(1, 2, 0).numpy()\n",
        "            img1 = (img1 - img1.min()) / (img1.max() - img1.min())\n",
        "            img2 = (img2 - img2.min()) / (img2.max() - img2.min())\n",
        "            axs[0].imshow(img1)\n",
        "            axs[1].imshow(img2)\n",
        "\n",
        "\n",
        "        axs[0].set_title('Image 1')\n",
        "        axs[0].axis('off')\n",
        "\n",
        "\n",
        "        axs[1].set_title('Image 2')\n",
        "        axs[1].axis('off')\n",
        "\n",
        "        plt.suptitle(f'Label: {label.item()}')\n",
        "        plt.show()\n"
      ]
    },
    {
      "cell_type": "markdown",
      "metadata": {
        "id": "zCCLNuTeewBZ"
      },
      "source": [
        "### Create transformator and class instance"
      ]
    },
    {
      "cell_type": "code",
      "execution_count": 91,
      "metadata": {
        "id": "fCMO45FyewBa"
      },
      "outputs": [],
      "source": [
        "# Transformations updated to include grayscale conversion\n",
        "transform = transforms.Compose([\n",
        "    transforms.Grayscale(num_output_channels=3),  # Convert image to grayscale\n",
        "    transforms.Resize((124, 124)),\n",
        "    # transforms.RandomHorizontalFlip(),            # Randomly flip the images horizontally\n",
        "    # transforms.RandomRotation(10),                # Resize the image\n",
        "    transforms.ToTensor(),                        # Convert the image to a tensor\n",
        "    #transforms.Normalize(mean=[0.4411], std=[0.2432]),\n",
        "    transforms.Normalize(mean=[0.4411, 0.4411, 0.4411], std=[0.2432, 0.2432, 0.2432])         # Normalize the image\n",
        "])\n",
        "\n",
        "# Dataset & DataLoader\n",
        "root_dir = \"./data\"\n",
        "dataset = SiameseNetworkDataset(root_dir=root_dir, transform=transform)"
      ]
    },
    {
      "cell_type": "markdown",
      "metadata": {
        "id": "LG9epJYHewBa"
      },
      "source": [
        "## 2. Data split"
      ]
    },
    {
      "cell_type": "code",
      "execution_count": 92,
      "metadata": {
        "id": "cLNMv8eFewBa"
      },
      "outputs": [],
      "source": [
        "seed = 42\n",
        "torch.manual_seed(seed)\n",
        "\n",
        "# Split dataset into train (70%), valid (15%), and test (15%) sets\n",
        "train_size = int(0.7 * len(dataset))\n",
        "valid_size = int(0.15 * len(dataset))\n",
        "test_size = len(dataset) - train_size - valid_size\n",
        "\n",
        "train_dataset, valid_dataset, test_dataset = random_split(dataset, [train_size, valid_size, test_size])\n",
        "\n",
        "# DataLoaders\n",
        "batch_size = 64\n",
        "train_loader = DataLoader(train_dataset, shuffle=True, batch_size=batch_size)\n",
        "valid_loader = DataLoader(valid_dataset, shuffle=False, batch_size=batch_size)\n",
        "test_loader = DataLoader(test_dataset, shuffle=False, batch_size=batch_size)"
      ]
    },
    {
      "cell_type": "code",
      "execution_count": 93,
      "metadata": {
        "colab": {
          "base_uri": "https://localhost:8080/"
        },
        "id": "U4bDDRK2ewBb",
        "outputId": "41366ec8-ad2f-467a-baea-704da117d6da"
      },
      "outputs": [
        {
          "name": "stdout",
          "output_type": "stream",
          "text": [
            "Number of training samples: 35000\n",
            "Number of validation samples: 7500\n",
            "Number of test samples: 7500\n"
          ]
        }
      ],
      "source": [
        "#Check number of samples in each DataLoader\n",
        "print(f'Number of training samples: {len(train_loader.dataset)}')\n",
        "print(f'Number of validation samples: {len(valid_loader.dataset)}')\n",
        "print(f'Number of test samples: {len(test_loader.dataset)}')\n",
        "\n",
        "# Check a few labels from each DataLoader\n",
        "def check_labels(loader, name):\n",
        "    print(f'\\n{name} labels:')\n",
        "    for batch in loader:\n",
        "        _, _, labels = batch\n",
        "        print(labels)\n",
        "        break  # Only print the first batch\n",
        "\n",
        "# check_labels(train_loader, \"Train\")\n",
        "# check_labels(valid_loader, \"Validation\")\n",
        "# check_labels(test_loader, \"Test\")"
      ]
    },
    {
      "cell_type": "markdown",
      "metadata": {
        "id": "hbaw_ZaxewBb"
      },
      "source": [
        "## 3. Model"
      ]
    },
    {
      "cell_type": "markdown",
      "metadata": {
        "id": "GL962FPejeJT"
      },
      "source": [
        "#### Baseline"
      ]
    },
    {
      "cell_type": "code",
      "execution_count": 94,
      "metadata": {
        "id": "3r3Dw73oM8bO"
      },
      "outputs": [],
      "source": [
        "class SiameseNetwork(nn.Module):\n",
        "    def __init__(self):\n",
        "        super(SiameseNetwork, self).__init__()\n",
        "        self.cnn1 = nn.Sequential(\n",
        "            nn.Conv2d(3, 64, kernel_size=10),\n",
        "            nn.BatchNorm2d(64),  # Batch normalization for convolutional layer\n",
        "            nn.ReLU(inplace=True),\n",
        "            nn.MaxPool2d(2, stride=2),\n",
        "\n",
        "            nn.Conv2d(64, 128, kernel_size=7),\n",
        "            nn.BatchNorm2d(128),  # Batch normalization for convolutional layer\n",
        "            nn.ReLU(inplace=True),\n",
        "            nn.MaxPool2d(2, stride=2),\n",
        "\n",
        "            nn.Conv2d(128, 128, kernel_size=4),\n",
        "            nn.BatchNorm2d(128),  # Batch normalization for convolutional layer\n",
        "            nn.ReLU(inplace=True),\n",
        "            nn.MaxPool2d(2, stride=2),\n",
        "\n",
        "            nn.Conv2d(128, 256, kernel_size=4),\n",
        "            nn.BatchNorm2d(256),  # Batch normalization for convolutional layer\n",
        "            nn.ReLU(inplace=True)\n",
        "        )\n",
        "\n",
        "        self.fc1 = nn.Sequential(\n",
        "            nn.Linear(256*8*8, 4096),\n",
        "            nn.BatchNorm1d(4096),  # Batch normalization for fully connected layer\n",
        "            nn.ReLU(inplace=True)\n",
        "        )\n",
        "\n",
        "        self.fc2 = nn.Sequential(\n",
        "            nn.Linear(4096, 1),\n",
        "            nn.Sigmoid()\n",
        "        )\n",
        "\n",
        "    def forward_one(self, x):\n",
        "        x = self.cnn1(x)\n",
        "        x = x.view(x.size()[0], -1)\n",
        "        x = self.fc1(x)\n",
        "        return x\n",
        "\n",
        "    def forward(self, input1, input2):\n",
        "        output1 = self.forward_one(input1)\n",
        "        output2 = self.forward_one(input2)\n",
        "        abs_diff = torch.abs(output1 - output2)\n",
        "        similarity_score = self.fc2(abs_diff)\n",
        "        return similarity_score"
      ]
    },
    {
      "cell_type": "markdown",
      "metadata": {
        "id": "JSnl7pk4jq1-"
      },
      "source": [
        "#### Dummy for shapes"
      ]
    },
    {
      "cell_type": "code",
      "execution_count": 45,
      "metadata": {
        "colab": {
          "base_uri": "https://localhost:8080/"
        },
        "id": "4_QVBdsfUaMg",
        "outputId": "4751d923-6fdc-4995-da8d-997bd95042d0"
      },
      "outputs": [
        {
          "name": "stdout",
          "output_type": "stream",
          "text": [
            "After layer Conv2d: torch.Size([1, 64, 115, 115])\n",
            "After layer BatchNorm2d: torch.Size([1, 64, 115, 115])\n",
            "After layer ReLU: torch.Size([1, 64, 115, 115])\n",
            "After layer MaxPool2d: torch.Size([1, 64, 57, 57])\n",
            "After layer Conv2d: torch.Size([1, 128, 51, 51])\n",
            "After layer BatchNorm2d: torch.Size([1, 128, 51, 51])\n",
            "After layer ReLU: torch.Size([1, 128, 51, 51])\n",
            "After layer MaxPool2d: torch.Size([1, 128, 25, 25])\n",
            "After layer Conv2d: torch.Size([1, 128, 22, 22])\n",
            "After layer BatchNorm2d: torch.Size([1, 128, 22, 22])\n",
            "After layer ReLU: torch.Size([1, 128, 22, 22])\n",
            "After layer MaxPool2d: torch.Size([1, 128, 11, 11])\n",
            "After layer Conv2d: torch.Size([1, 256, 8, 8])\n",
            "After layer BatchNorm2d: torch.Size([1, 256, 8, 8])\n",
            "After layer ReLU: torch.Size([1, 256, 8, 8])\n",
            "Flattened size: torch.Size([1, 16384])\n"
          ]
        }
      ],
      "source": [
        "# Instantiate the model\n",
        "model = SiameseNetwork()\n",
        "\n",
        "# Create a dummy input tensor with the same dimensions as your actual input (batch_size, channels, height, width)\n",
        "dummy_input = torch.randn(1, 3, 124, 124)\n",
        "\n",
        "# Pass the dummy input through the network and print the output size at each stage\n",
        "def print_layer_shapes(model, dummy_input):\n",
        "    x = dummy_input\n",
        "    for layer in model.cnn1:\n",
        "        x = layer(x)\n",
        "        print(f'After layer {layer.__class__.__name__}: {x.shape}')\n",
        "    x = x.view(x.size()[0], -1)\n",
        "    print(f'Flattened size: {x.shape}')\n",
        "\n",
        "print_layer_shapes(model, dummy_input)"
      ]
    },
    {
      "cell_type": "markdown",
      "metadata": {
        "id": "aDQJiJpQSbxn"
      },
      "source": [
        "## 4. Init and train the model\n",
        "\n"
      ]
    },
    {
      "cell_type": "markdown",
      "metadata": {
        "id": "JPyJEDhbewBc"
      },
      "source": [
        "### Init model"
      ]
    },
    {
      "cell_type": "code",
      "execution_count": 78,
      "metadata": {
        "id": "3mhE1-5eewBd"
      },
      "outputs": [],
      "source": [
        "# Check if GPU is available\n",
        "model = SiameseNetwork().to(device)"
      ]
    },
    {
      "cell_type": "markdown",
      "metadata": {
        "id": "eHC9SevxewBd"
      },
      "source": [
        "### Init parameters"
      ]
    },
    {
      "cell_type": "code",
      "execution_count": 95,
      "metadata": {
        "id": "zmhNnKWeewBd"
      },
      "outputs": [],
      "source": [
        "# Hyperparameters\n",
        "num_epochs = 10\n",
        "learning_rate = 0.0001\n",
        "\n",
        "# Optimizer and loss function\n",
        "optimizer = optim.Adam(model.parameters(), lr=learning_rate, weight_decay=1e-5)\n",
        "scheduler = StepLR(optimizer, step_size=4, gamma=0.1)\n",
        "criterion = nn.BCELoss()\n",
        "\n",
        "# Lists to store losses\n",
        "train_losses = []\n",
        "val_losses = []\n",
        "\n",
        "# Early stopping variables\n",
        "patience = 7  # Early stopping patience\n",
        "best_val_loss = np.inf\n",
        "patience_counter = 0"
      ]
    },
    {
      "cell_type": "markdown",
      "metadata": {
        "id": "lviAj1pQewBd"
      },
      "source": [
        "### Train model"
      ]
    },
    {
      "cell_type": "code",
      "execution_count": null,
      "metadata": {
        "colab": {
          "base_uri": "https://localhost:8080/",
          "height": 938
        },
        "id": "LqR1zhfIewBd",
        "outputId": "511e336c-727b-4d15-c025-ca81fdcb66a8"
      },
      "outputs": [
        {
          "name": "stderr",
          "output_type": "stream",
          "text": []
        },
        {
          "name": "stdout",
          "output_type": "stream",
          "text": [
            "\n",
            "Epoch [1/30], Train Loss: 0.6134, Val Loss: 0.5295\n"
          ]
        },
        {
          "name": "stderr",
          "output_type": "stream",
          "text": []
        },
        {
          "name": "stdout",
          "output_type": "stream",
          "text": [
            "\n",
            "Epoch [2/30], Train Loss: 0.4672, Val Loss: 0.4813\n"
          ]
        },
        {
          "name": "stderr",
          "output_type": "stream",
          "text": []
        },
        {
          "name": "stdout",
          "output_type": "stream",
          "text": [
            "\n",
            "Epoch [3/30], Train Loss: 0.3562, Val Loss: 0.4786\n"
          ]
        },
        {
          "name": "stderr",
          "output_type": "stream",
          "text": []
        },
        {
          "name": "stdout",
          "output_type": "stream",
          "text": [
            "\n",
            "Epoch [4/30], Train Loss: 0.2297, Val Loss: 0.5108\n"
          ]
        },
        {
          "name": "stderr",
          "output_type": "stream",
          "text": []
        },
        {
          "name": "stdout",
          "output_type": "stream",
          "text": [
            "\n",
            "Epoch [5/30], Train Loss: 0.0969, Val Loss: 0.4623\n"
          ]
        },
        {
          "name": "stderr",
          "output_type": "stream",
          "text": []
        },
        {
          "name": "stdout",
          "output_type": "stream",
          "text": [
            "\n",
            "Epoch [6/30], Train Loss: 0.0583, Val Loss: 0.4639\n"
          ]
        },
        {
          "name": "stderr",
          "output_type": "stream",
          "text": []
        },
        {
          "name": "stdout",
          "output_type": "stream",
          "text": [
            "\n",
            "Epoch [7/30], Train Loss: 0.0396, Val Loss: 0.4752\n"
          ]
        },
        {
          "name": "stderr",
          "output_type": "stream",
          "text": []
        },
        {
          "name": "stdout",
          "output_type": "stream",
          "text": [
            "\n",
            "Epoch [8/30], Train Loss: 0.0285, Val Loss: 0.4810\n"
          ]
        },
        {
          "name": "stderr",
          "output_type": "stream",
          "text": []
        },
        {
          "name": "stdout",
          "output_type": "stream",
          "text": [
            "\n",
            "Epoch [9/30], Train Loss: 0.0210, Val Loss: 0.4833\n"
          ]
        },
        {
          "name": "stderr",
          "output_type": "stream",
          "text": []
        },
        {
          "name": "stdout",
          "output_type": "stream",
          "text": [
            "\n",
            "Epoch [10/30], Train Loss: 0.0201, Val Loss: 0.4836\n"
          ]
        },
        {
          "name": "stderr",
          "output_type": "stream",
          "text": []
        },
        {
          "name": "stdout",
          "output_type": "stream",
          "text": [
            "\n",
            "Epoch [11/30], Train Loss: 0.0191, Val Loss: 0.4902\n"
          ]
        },
        {
          "name": "stderr",
          "output_type": "stream",
          "text": []
        },
        {
          "name": "stdout",
          "output_type": "stream",
          "text": [
            "\n",
            "Epoch [12/30], Train Loss: 0.0181, Val Loss: 0.4889\n",
            "Early stopping triggered\n",
            "Training complete.\n"
          ]
        },
        {
          "data": {
            "image/png": "[encoded data removed]",
            "text/plain": [
              "<Figure size 1000x500 with 1 Axes>"
            ]
          },
          "metadata": {},
          "output_type": "display_data"
        }
      ],
      "source": [
        "for epoch in range(num_epochs):\n",
        "    model.train()\n",
        "    running_train_loss = 0.0\n",
        "\n",
        "    with tqdm(total=len(train_loader), desc=f\"Epoch {epoch+1}/{num_epochs}\", unit=\"batch\", leave=False) as pbar:\n",
        "        for img1, img2, label in train_loader:\n",
        "            img1, img2, label = img1.to(device), img2.to(device), label.to(device)\n",
        "\n",
        "            # # Forward pass\n",
        "            # output1, output2 = model(img1, img2)\n",
        "\n",
        "            # # Compute loss\n",
        "            # loss = criterion(output1, output2, label)\n",
        "\n",
        "            # Forward pass\n",
        "            similarity_score = model(img1, img2)\n",
        "            # Compute loss\n",
        "            loss = criterion(similarity_score, label.unsqueeze(1))\n",
        "\n",
        "            # Backward pass and optimization\n",
        "            optimizer.zero_grad()\n",
        "            loss.backward()\n",
        "            optimizer.step()\n",
        "\n",
        "            running_train_loss += loss.item()\n",
        "            pbar.set_postfix({'train_loss': running_train_loss / (pbar.n + 1)})\n",
        "            pbar.update(1)\n",
        "\n",
        "    train_loss = running_train_loss / len(train_loader)\n",
        "    train_losses.append(train_loss)\n",
        "\n",
        "    # Validation loop\n",
        "    model.eval()\n",
        "    running_val_loss = 0.0\n",
        "    with torch.inference_mode():\n",
        "        for img1, img2, label in valid_loader:\n",
        "            img1, img2, label = img1.to(device), img2.to(device), label.to(device)\n",
        "            # output1, output2 = model(img1, img2)\n",
        "            # loss = criterion(output1, output2, label)\n",
        "            similarity_score = model(img1, img2)\n",
        "            loss = criterion(similarity_score, label.unsqueeze(1))\n",
        "            running_val_loss += loss.item()\n",
        "\n",
        "    val_loss = running_val_loss / len(valid_loader)\n",
        "    val_losses.append(val_loss)\n",
        "\n",
        "    print(f'\\nEpoch [{epoch+1}/{num_epochs}], Train Loss: {train_loss:.4f}, Val Loss: {val_loss:.4f}')\n",
        "\n",
        "    # Check for early stopping\n",
        "    if val_loss < best_val_loss:\n",
        "        best_val_loss = val_loss\n",
        "        patience_counter = 0\n",
        "        torch.save(model.state_dict(), 'best_model.pth')  # Save the best model\n",
        "    else:\n",
        "        patience_counter += 1\n",
        "\n",
        "    if patience_counter >= patience:\n",
        "        print(\"Early stopping triggered\")\n",
        "        break\n",
        "\n",
        "    scheduler.step()\n",
        "\n",
        "print('Training complete.')\n",
        "\n",
        "# Plot the training and validation losses\n",
        "plt.figure(figsize=(10, 5))\n",
        "plt.plot(train_losses, label='Training Loss')\n",
        "plt.plot(val_losses, label='Validation Loss')\n",
        "plt.xlabel('Epoch')\n",
        "plt.ylabel('Loss')\n",
        "plt.title('Training and Validation Loss')\n",
        "plt.legend()\n",
        "plt.show()"
      ]
    },
    {
      "cell_type": "code",
      "execution_count": null,
      "metadata": {
        "colab": {
          "base_uri": "https://localhost:8080/",
          "height": 487
        },
        "id": "NVHv0hVJyFi7",
        "outputId": "aa5ac5d8-c11f-4849-d588-3ddd7dff4212"
      },
      "outputs": [
        {
          "data": {
            "image/png": "[encoded data removed]",
            "text/plain": [
              "<Figure size 1000x500 with 1 Axes>"
            ]
          },
          "metadata": {},
          "output_type": "display_data"
        }
      ],
      "source": [
        "plt.figure(figsize=(10, 5))\n",
        "plt.plot(train_losses[1:], label='Training Loss')\n",
        "plt.plot(val_losses[1:], label='Validation Loss')\n",
        "plt.xlabel('Epoch')\n",
        "plt.ylabel('Loss')\n",
        "plt.title('Training and Validation Loss')\n",
        "plt.legend()\n",
        "plt.show()"
      ]
    },
    {
      "cell_type": "markdown",
      "metadata": {
        "id": "mlEh2Y9qSoc3"
      },
      "source": [
        "## 5. Test and show metrics"
      ]
    },
    {
      "cell_type": "markdown",
      "metadata": {
        "id": "sVFN126fewBe"
      },
      "source": [
        "### Test model"
      ]
    },
    {
      "cell_type": "code",
      "execution_count": 96,
      "metadata": {
        "id": "wDirELej5OQw"
      },
      "outputs": [],
      "source": [
        "# state_dict = torch.load('/content/drive/MyDrive/mySOTA.pth')\n",
        "# model = SiameseNetwork()\n",
        "# model.load_state_dict(state_dict)\n",
        "# model = model.to(device)"
      ]
    },
    {
      "cell_type": "code",
      "execution_count": 108,
      "metadata": {
        "id": "14bX35Lgegl9"
      },
      "outputs": [],
      "source": [
        "# Testing loop\n",
        "def test(model, test_loader, device):\n",
        "    model.eval()\n",
        "    all_labels = []\n",
        "    all_preds = []\n",
        "    with torch.inference_mode():\n",
        "        for img1, img2, label in test_loader:\n",
        "            img1, img2, label = img1.to(device), img2.to(device), label.to(device)\n",
        "            similarity_score = model(img1, img2)\n",
        "            preds = (similarity_score > 0.6).float()\n",
        "\n",
        "            all_labels.extend(label.cpu().numpy())\n",
        "            all_preds.extend(preds.cpu().numpy())\n",
        "\n",
        "    # Convert to numpy arrays for evaluation\n",
        "    all_labels = np.array(all_labels)\n",
        "    all_preds = np.array(all_preds)\n",
        "\n",
        "    # Compute confusion matrix\n",
        "    cm = confusion_matrix(all_labels, all_preds)\n",
        "\n",
        "    # Compute basic metrics\n",
        "    accuracy = accuracy_score(all_labels, all_preds)\n",
        "    precision = precision_score(all_labels, all_preds)\n",
        "    recall = recall_score(all_labels, all_preds)\n",
        "    f1 = f1_score(all_labels, all_preds)\n",
        "\n",
        "    print(f'Accuracy: {accuracy:.4f}')\n",
        "    print(f'Precision: {precision:.4f}')\n",
        "    print(f'Recall: {recall:.4f}')\n",
        "    print(f'F1 Score: {f1:.4f}')\n",
        "\n",
        "    # Plot confusion matrix\n",
        "    plt.figure(figsize=(8, 6))\n",
        "    sb.heatmap(cm, annot=True, fmt='d', cmap='Blues', xticklabels=['Not Similar', 'Similar'], yticklabels=['Not Similar', 'Similar'])\n",
        "    plt.xlabel('Predicted')\n",
        "    plt.ylabel('Actual')\n",
        "    plt.title('Confusion Matrix')\n",
        "    plt.show()\n",
        "\n",
        "    fpr, tpr, _ = roc_curve(all_labels, all_preds)\n",
        "    roc_auc = auc(fpr, tpr)\n",
        "\n",
        "    plt.figure()\n",
        "    plt.plot(fpr, tpr, color='darkorange', lw=2, label=f'ROC curve (area = {roc_auc:.2f})')\n",
        "    plt.plot([0, 1], [0, 1], color='navy', lw=2, linestyle='--')\n",
        "    plt.xlim([0.0, 1.0])\n",
        "    plt.ylim([0.0, 1.05])\n",
        "    plt.xlabel('False Positive Rate')\n",
        "    plt.ylabel('True Positive Rate')\n",
        "    plt.title('Receiver Operating Characteristic')\n",
        "    plt.legend(loc='lower right')\n",
        "    plt.show()"
      ]
    },
    {
      "cell_type": "code",
      "execution_count": 109,
      "metadata": {
        "colab": {
          "base_uri": "https://localhost:8080/",
          "height": 1000
        },
        "id": "N1P6PTWdexw8",
        "outputId": "a9f1571a-4bdc-4b6a-b3ec-285a3d45bc5c"
      },
      "outputs": [
        {
          "name": "stdout",
          "output_type": "stream",
          "text": [
            "Accuracy: 0.9321\n",
            "Precision: 0.9431\n",
            "Recall: 0.9203\n",
            "F1 Score: 0.9316\n"
          ]
        },
        {
          "data": {
            "image/png": "[encoded data removed]",
            "text/plain": [
              "<Figure size 800x600 with 2 Axes>"
            ]
          },
          "metadata": {},
          "output_type": "display_data"
        },
        {
          "data": {
            "image/png": "[encoded data removed]",
            "text/plain": [
              "<Figure size 640x480 with 1 Axes>"
            ]
          },
          "metadata": {},
          "output_type": "display_data"
        }
      ],
      "source": [
        "test(model, test_loader, device)"
      ]
    },
    {
      "cell_type": "code",
      "execution_count": 19,
      "metadata": {
        "colab": {
          "base_uri": "https://localhost:8080/"
        },
        "id": "nKwIBvmZuVV_",
        "outputId": "75140541-d26d-4e9b-9ba2-044b8665c694"
      },
      "outputs": [
        {
          "name": "stdout",
          "output_type": "stream",
          "text": [
            "Similarity Score: 0.9578\n"
          ]
        }
      ],
      "source": [
        "# model.eval()\n",
        "\n",
        "# img1_path = 'img1.png'\n",
        "# img2_path = 'img2.png'\n",
        "# img3_path = 'img3.png'\n",
        "\n",
        "# img1 = Image.open(img1_path)\n",
        "# img2 = Image.open(img2_path)\n",
        "# img3 = Image.open(img3_path)\n",
        "\n",
        "# image1 = transform(img1)\n",
        "# image2 = transform(img2)\n",
        "# image3 = transform(img3)\n",
        "\n",
        "# image1 = image1.unsqueeze(0)\n",
        "# image2 = image2.unsqueeze(0)\n",
        "# image3 = image3.unsqueeze(0)\n",
        "\n",
        "# with torch.inference_mode():\n",
        "#       similarity_score = model(image1.to(device), image2.to(device)).item()  # Get the scalar value\n",
        "\n",
        "# print(f'Similarity Score: {similarity_score:.4f}')"
      ]
    }
  ],
  "metadata": {
    "accelerator": "GPU",
    "colab": {
      "gpuType": "T4",
      "provenance": []
    },
    "kernelspec": {
      "display_name": "Python 3",
      "name": "python3"
    },
    "language_info": {
      "codemirror_mode": {
        "name": "ipython",
        "version": 3
      },
      "file_extension": ".py",
      "mimetype": "text/x-python",
      "name": "python",
      "nbconvert_exporter": "python",
      "pygments_lexer": "ipython3",
      "version": "3.11.8"
    }
  },
  "nbformat": 4,
  "nbformat_minor": 0
}
